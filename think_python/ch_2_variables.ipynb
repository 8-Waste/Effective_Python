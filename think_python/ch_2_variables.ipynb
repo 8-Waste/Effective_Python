{
 "cells": [
  {
   "cell_type": "markdown",
   "metadata": {
    "id": "uuAr0PR4P1Z4"
   },
   "source": [
    "<h2>2.5 Expressions and statements</h2>"
   ]
  },
  {
   "cell_type": "markdown",
   "metadata": {},
   "source": [
    "**An expression** is a combination of values, variables, and operators. A value all by itself\n",
    "is considered an expression, and so is a variable, so the following are all legal expressions\n",
    "(assuming that the variable x has been assigned a value):<br>\n",
    "17<br>\n",
    "x<br>\n",
    "x + 17<br>\n",
    "**A statement** is a unit of code that the Python interpreter can execute. We have seen two\n",
    "kinds of statement: print and assignment.\n",
    "Technically an expression is also a statement, but it is probably simpler to think of them\n",
    "as different things. The important difference is that an expression has a value; a statement\n",
    "does not."
   ]
  },
  {
   "cell_type": "markdown",
   "metadata": {},
   "source": [
    "A value is an expression so it gets printed out in interpreter mode"
   ]
  },
  {
   "cell_type": "code",
   "execution_count": 1,
   "metadata": {},
   "outputs": [
    {
     "data": {
      "text/plain": [
       "5"
      ]
     },
     "execution_count": 1,
     "metadata": {},
     "output_type": "execute_result"
    }
   ],
   "source": [
    "5  "
   ]
  },
  {
   "cell_type": "markdown",
   "metadata": {},
   "source": [
    "An assignment is a statement and so does not get printed out technically by the python shell in interpreter mode"
   ]
  },
  {
   "cell_type": "code",
   "execution_count": 4,
   "metadata": {},
   "outputs": [],
   "source": [
    "x = 5 "
   ]
  },
  {
   "cell_type": "markdown",
   "metadata": {},
   "source": [
    "The value of an expression gets printed out in the python shell interpreter mode"
   ]
  },
  {
   "cell_type": "code",
   "execution_count": 3,
   "metadata": {},
   "outputs": [
    {
     "data": {
      "text/plain": [
       "6"
      ]
     },
     "execution_count": 3,
     "metadata": {},
     "output_type": "execute_result"
    }
   ],
   "source": [
    "x + 1"
   ]
  },
  {
   "cell_type": "markdown",
   "metadata": {},
   "source": [
    "<h2>2.7 Order of operations</h2>\n",
    "\n",
    "When more than one operator appears in an expression, the order of evaluation depends\n",
    "on the rules of precedence. For mathematical operators, Python follows mathematical\n",
    "convention. The acronym **PEMDAS** is a useful way to remember the rules:"
   ]
  },
  {
   "cell_type": "markdown",
   "metadata": {},
   "source": [
    "• **Parentheses** have the highest precedence and can be used to force an expression to\n",
    "evaluate in the order you want. Since expressions in parentheses are evaluated first,\n",
    "2 * (3-1) is 4, and (1+1)^(5-2) is 8. You can also use parentheses to make an\n",
    "expression easier to read, as in (minute * 100) / 60, even if it doesn’t change the\n",
    "result.\n",
    "\n",
    "• **Exponentiation** has the next highest precedence, so 2^1+1 is 3, not 4, and 3*1^3 is\n",
    "3, not 27.\n",
    "\n",
    "• **Multiplication and Division** have the same precedence, which is higher than\n",
    "**Addition and Subtraction**, which also have the same precedence. So 2*3-1 is 5, not\n",
    "4, and 6+4/2 is 8, not 5.\n",
    "\n",
    "• Operators with the same precedence are evaluated from left to right (except exponentiation). So in the expression degrees / 2 * pi, the division happens first and the\n",
    "result is multiplied by pi. To divide by 2π, you can use parentheses or write degrees\n",
    "/ 2 / pi.\n",
    "\n",
    "I don’t work very hard to remember rules of precedence for other operators. If I can’t tell\n",
    "by looking at the expression, I use parentheses to make it obvious."
   ]
  },
  {
   "cell_type": "markdown",
   "metadata": {},
   "source": [
    "<h2>2.9 Comments</h2>\n",
    "\n",
    "As programs get bigger and more complicated, they get more difficult to read. Formal\n",
    "languages are dense, and it is often difficult to look at a piece of code and figure out what\n",
    "it is doing, or why.\n"
   ]
  },
  {
   "cell_type": "markdown",
   "metadata": {},
   "source": [
    "Comments are most useful when they document non-obvious features of the code. It is\n",
    "reasonable to assume that the reader can figure out what the code does; it is much more\n",
    "useful to explain why.<br>\n",
    "This comment is redundant with the code and useless:<br>\n",
    "`v = 5` # assign 5 to v<br>\n",
    "This comment contains useful information that is not in the code:<br>\n",
    "`v = 5` # velocity in meters/second.<br>\n",
    "Good variable names can reduce the need for comments, but long names can make complex expressions hard to read, so there is a tradeoff."
   ]
  },
  {
   "cell_type": "markdown",
   "metadata": {},
   "source": [
    "<h2>2.11 Glossary</h2>\n",
    "\n",
    "1. **value:** One of the basic units of data, like a number or string, that a program manipulates.\n",
    "2. **type:** A category of values. The types we have seen so far are integers (type int), floatingpoint numbers (type float), and strings (type str).\n",
    "3. **integer:** A type that represents whole numbers.\n",
    "4. **floating-point:** A type that represents numbers with fractional parts.\n",
    "5. **string:** A type that represents sequences of characters.\n",
    "6. **variable:** A name that refers to a value.\n",
    "7. **statement:** A section of code that represents a command or action. So far, the statements\n",
    "we have seen are assignments and print statements.\n",
    "8. **assignment:** A statement that assigns a value to a variable.\n",
    "9. **state diagram:** A graphical representation of a set of variables and the values they refer to.\n",
    "10. **keyword:** A reserved word that is used by the compiler to parse a program; you cannot\n",
    "use keywords like if, def, and while as variable names."
   ]
  },
  {
   "cell_type": "markdown",
   "metadata": {},
   "source": [
    "11. **operator:** A special symbol that represents a simple computation like addition, multiplication, or string concatenation.\n",
    "12. **operand:** One of the values on which an operator operates.\n",
    "13. **floor division:** The operation that divides two numbers and chops off the fraction part.\n",
    "14. **expression:** A combination of variables, operators, and values that represents a single result value.\n",
    "15. **evaluate:** To simplify an expression by performing the operations in order to yield a single value.\n",
    "16. **rules of precedence:** The set of rules governing the order in which expressions involving multiple operators and operands are evaluated.\n",
    "17. **concatenate:** To join two operands end-to-end.\n",
    "18. **comment:** Information in a program that is meant for other programmers (or anyone reading the source code) and has no effect on the execution of the program.\n"
   ]
  },
  {
   "cell_type": "markdown",
   "metadata": {},
   "source": [
    "<h2>2.12 Exercises</h2>"
   ]
  },
  {
   "cell_type": "markdown",
   "metadata": {},
   "source": [
    "**Exercise 2.2.** Assume that we execute the following assignment statements:"
   ]
  },
  {
   "cell_type": "code",
   "execution_count": 5,
   "metadata": {},
   "outputs": [],
   "source": [
    "width = 17\n",
    "height = 12.0\n",
    "delimiter = '.'"
   ]
  },
  {
   "cell_type": "markdown",
   "metadata": {},
   "source": [
    "For each of the following expressions, write the value of the expression and the type (of the value of\n",
    "the expression).\n",
    "\n",
    "1. width/2\n",
    "2. width/2.0\n",
    "3. height/3\n",
    "4. 1 + 2 * 5\n",
    "5. delimiter * 5"
   ]
  },
  {
   "cell_type": "code",
   "execution_count": 6,
   "metadata": {},
   "outputs": [
    {
     "data": {
      "text/plain": [
       "8.5"
      ]
     },
     "execution_count": 6,
     "metadata": {},
     "output_type": "execute_result"
    }
   ],
   "source": [
    "width / 2  # Type of value of expression in float"
   ]
  },
  {
   "cell_type": "code",
   "execution_count": 7,
   "metadata": {},
   "outputs": [
    {
     "data": {
      "text/plain": [
       "8.5"
      ]
     },
     "execution_count": 7,
     "metadata": {},
     "output_type": "execute_result"
    }
   ],
   "source": [
    "width / 2.0 # Type of value of expression in float"
   ]
  },
  {
   "cell_type": "code",
   "execution_count": 8,
   "metadata": {},
   "outputs": [
    {
     "data": {
      "text/plain": [
       "4.0"
      ]
     },
     "execution_count": 8,
     "metadata": {},
     "output_type": "execute_result"
    }
   ],
   "source": [
    "height / 3 # Type of value of expression in float"
   ]
  },
  {
   "cell_type": "code",
   "execution_count": 9,
   "metadata": {},
   "outputs": [
    {
     "data": {
      "text/plain": [
       "11"
      ]
     },
     "execution_count": 9,
     "metadata": {},
     "output_type": "execute_result"
    }
   ],
   "source": [
    "1+2 * 5  # Type of value of expression is int, value is 11"
   ]
  },
  {
   "cell_type": "code",
   "execution_count": 10,
   "metadata": {},
   "outputs": [
    {
     "data": {
      "text/plain": [
       "'.....'"
      ]
     },
     "execution_count": 10,
     "metadata": {},
     "output_type": "execute_result"
    }
   ],
   "source": [
    "delimiter * 5  # Type of value of expression is string"
   ]
  },
  {
   "cell_type": "markdown",
   "metadata": {},
   "source": [
    "**Exercise 2.3.** Practice using the Python interpreter as a calculator:"
   ]
  },
  {
   "cell_type": "markdown",
   "metadata": {},
   "source": [
    "1. The volume of a sphere with radius r is ${4\\over3}\\pi r^3$ What is the volume of a sphere with radius 5? Hint: 392.7 is wrong!\n",
    "2. Suppose the cover price of a book is $$24.95, but bookstores get a 40% discount. Shipping costs\n",
    "$3 for the first copy and 75 cents for each additional copy. What is the total wholesale cost for\n",
    "60 copies?\n",
    "3. If I leave my house at 6:52 am and run 1 mile at an easy pace (8:15 per mile), then 3 miles at\n",
    "tempo (7:12 per mile) and 1 mile at easy pace again, what time do I get home for breakfast?"
   ]
  },
  {
   "cell_type": "code",
   "execution_count": 11,
   "metadata": {},
   "outputs": [],
   "source": [
    "import math"
   ]
  },
  {
   "cell_type": "markdown",
   "metadata": {},
   "source": [
    "**Quest 1.**"
   ]
  },
  {
   "cell_type": "code",
   "execution_count": 12,
   "metadata": {},
   "outputs": [
    {
     "data": {
      "text/plain": [
       "523.5987755982989"
      ]
     },
     "execution_count": 12,
     "metadata": {},
     "output_type": "execute_result"
    }
   ],
   "source": [
    "radius = 5\n",
    "volume = (4/3*math.pi)*radius**3\n",
    "volume"
   ]
  },
  {
   "cell_type": "markdown",
   "metadata": {},
   "source": [
    "**Quest 2.**"
   ]
  },
  {
   "cell_type": "code",
   "execution_count": 14,
   "metadata": {},
   "outputs": [],
   "source": [
    "cover_price = 24.95\n",
    "book_stores_discount = 0.4"
   ]
  },
  {
   "cell_type": "markdown",
   "metadata": {},
   "source": [
    "Total wholesale cost for each book will be the cover_price cost less discounts plus shipping cost. The fisrst copy has shipping of $$3 and the rest 0.75 cents. So add it up for 60 copies"
   ]
  },
  {
   "cell_type": "code",
   "execution_count": 15,
   "metadata": {},
   "outputs": [
    {
     "data": {
      "text/plain": [
       "14.969999999999999"
      ]
     },
     "execution_count": 15,
     "metadata": {},
     "output_type": "execute_result"
    }
   ],
   "source": [
    "net_cover_price = cover_price - (cover_price * book_stores_discount)\n",
    "net_cover_price"
   ]
  },
  {
   "cell_type": "code",
   "execution_count": 18,
   "metadata": {},
   "outputs": [],
   "source": [
    "First_shipping_cost = 3\n",
    "subsequent_shipping_cost = 0.75"
   ]
  },
  {
   "cell_type": "code",
   "execution_count": 19,
   "metadata": {},
   "outputs": [],
   "source": [
    "first_book_cost = net_cover_price + First_shipping_cost\n",
    "fifty_nine_books_cost = (net_cover_price + subsequent_shipping_cost) * 59"
   ]
  },
  {
   "cell_type": "code",
   "execution_count": 20,
   "metadata": {},
   "outputs": [
    {
     "data": {
      "text/plain": [
       "945.4499999999999"
      ]
     },
     "execution_count": 20,
     "metadata": {},
     "output_type": "execute_result"
    }
   ],
   "source": [
    "total_wholesale_cost = first_book_cost + fifty_nine_books_cost\n",
    "total_wholesale_cost"
   ]
  },
  {
   "cell_type": "markdown",
   "metadata": {},
   "source": [
    "**Quest 3.**"
   ]
  },
  {
   "cell_type": "code",
   "execution_count": 35,
   "metadata": {},
   "outputs": [],
   "source": [
    "min_sec = 60\n",
    "hours_sec = 3600"
   ]
  },
  {
   "cell_type": "code",
   "execution_count": 40,
   "metadata": {},
   "outputs": [
    {
     "data": {
      "text/plain": [
       "24720"
      ]
     },
     "execution_count": 40,
     "metadata": {},
     "output_type": "execute_result"
    }
   ],
   "source": [
    "start_time_secs = 6 * hours_sec + 52 * min_sec\n",
    "start_time_secs"
   ]
  },
  {
   "cell_type": "code",
   "execution_count": 39,
   "metadata": {},
   "outputs": [],
   "source": [
    "easy_pace_per_mile = 8 * min_sec + 15\n",
    "tempo_space_per_mile = 7 * min_sec + 12"
   ]
  },
  {
   "cell_type": "markdown",
   "metadata": {},
   "source": [
    "Now add 2 * easy-pace + 3 * tempo-pace to start-time "
   ]
  },
  {
   "cell_type": "code",
   "execution_count": 41,
   "metadata": {},
   "outputs": [
    {
     "data": {
      "text/plain": [
       "27006"
      ]
     },
     "execution_count": 41,
     "metadata": {},
     "output_type": "execute_result"
    }
   ],
   "source": [
    "finish_time_secs = start_time_secs + (2 * easy_pace_per_mile) + (3 * tempo_space_per_mile)\n",
    "finish_time_secs"
   ]
  },
  {
   "cell_type": "markdown",
   "metadata": {},
   "source": [
    "Now convert finish-time-secs to hours and minutes"
   ]
  },
  {
   "cell_type": "code",
   "execution_count": 42,
   "metadata": {},
   "outputs": [],
   "source": [
    "import time \n",
    "  \n",
    "def convert(seconds): \n",
    "    return time.strftime(\"%H:%M:%S\", time.gmtime(seconds)) "
   ]
  },
  {
   "cell_type": "code",
   "execution_count": 43,
   "metadata": {},
   "outputs": [
    {
     "data": {
      "text/plain": [
       "'06:52:00'"
      ]
     },
     "execution_count": 43,
     "metadata": {},
     "output_type": "execute_result"
    }
   ],
   "source": [
    "# Now call it on the start_time to check, start-time is 06.52\n",
    "convert(start_time_secs)"
   ]
  },
  {
   "cell_type": "code",
   "execution_count": 44,
   "metadata": {},
   "outputs": [
    {
     "data": {
      "text/plain": [
       "'07:30:06'"
      ]
     },
     "execution_count": 44,
     "metadata": {},
     "output_type": "execute_result"
    }
   ],
   "source": [
    "# Now call it on the end_time to get the answer\n",
    "convert(finish_time_secs)"
   ]
  },
  {
   "cell_type": "markdown",
   "metadata": {},
   "source": [
    "Therefore, I get home for breakfast by 07:30:06 a.m"
   ]
  },
  {
   "cell_type": "code",
   "execution_count": null,
   "metadata": {},
   "outputs": [],
   "source": []
  }
 ],
 "metadata": {
  "colab": {
   "authorship_tag": "ABX9TyM2UUqwEGnfJVAij0L8X64j",
   "name": "Untitled0.ipynb",
   "provenance": []
  },
  "kernelspec": {
   "display_name": "Python 3",
   "language": "python",
   "name": "python3"
  },
  "language_info": {
   "codemirror_mode": {
    "name": "ipython",
    "version": 3
   },
   "file_extension": ".py",
   "mimetype": "text/x-python",
   "name": "python",
   "nbconvert_exporter": "python",
   "pygments_lexer": "ipython3",
   "version": "3.7.5"
  }
 },
 "nbformat": 4,
 "nbformat_minor": 1
}
