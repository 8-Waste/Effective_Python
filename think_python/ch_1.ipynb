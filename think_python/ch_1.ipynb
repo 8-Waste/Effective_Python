{
 "cells": [
  {
   "cell_type": "markdown",
   "metadata": {
    "id": "uuAr0PR4P1Z4"
   },
   "source": [
    "<h2>Glossary</h2>\n",
    "\n",
    "1. **problem solving:** The process of formulating a problem, finding a solution, and expressing the solution.\n",
    "2. **high-level language:** A programming language like Python that is designed to be easy for humans to read and write.\n",
    "3. **low-level language:** A programming language that is designed to be easy for a computer to execute; also called “machine language” or “assembly language.”\n",
    "4. **portability:** A property of a program that can run on more than one kind of computer.\n",
    "5. **interpret:** To execute a program in a high-level language by translating it one line at a time.\n",
    "6. **compile:** To translate a program written in a high-level language into a low-level language all at once, in preparation for later execution.\n",
    "7. **source code:** A program in a high-level language before being compiled.\n",
    "8. **object code:** The output of the compiler after it translates the program.\n",
    "9. **executable:** Another name for object code that is ready to be executed\n",
    "10. **prompt:** Characters displayed by the interpreter to indicate that it is ready to take input from the user.\n"
   ]
  },
  {
   "cell_type": "markdown",
   "metadata": {},
   "source": [
    "11. **script:** A program stored in a file (usually one that will be interpreted).\n",
    "12. **interactive mode:** A way of using the Python interpreter by typing commands and expressions at the prompt.\n",
    "13. **script mode:** A way of using the Python interpreter to read and execute statements in a script.\n",
    "14. **program:** A set of instructions that specifies a computation.\n",
    "15. **algorithm:** A general process for solving a category of problems.\n",
    "16. **bug:** An error in a program.\n",
    "17. **debugging:** The process of finding and removing any of the three kinds of programming errors.\n",
    "18. **syntax:** The structure of a program.\n",
    "19. **syntax error:** An error in a program that makes it impossible to parse (and therefore impossible to interpret).\n",
    "20. **exception:** An error that is detected while the program is running."
   ]
  },
  {
   "cell_type": "markdown",
   "metadata": {},
   "source": [
    "21. **semantics:** The meaning of a program.\n",
    "22. **semantic error:** An error in a program that makes it do something other than what the programmer intended.\n",
    "23. **natural language:** Any one of the languages that people speak that evolved naturally.\n",
    "24. **formal language:** Any one of the languages that people have designed for specific purposes, such as representing mathematical ideas or computer programs; all programming languages are formal languages.\n",
    "25. **token:** One of the basic elements of the syntactic structure of a program, analogous to a word in a natural language.\n",
    "26. **parse:** To examine a program and analyze the syntactic structure.\n",
    "27. **print statement:** An instruction that causes the Python interpreter to display a value on the screen."
   ]
  },
  {
   "cell_type": "markdown",
   "metadata": {},
   "source": [
    "<h2>Exercises</h2>\n",
    "\n",
    "**Exercise 1.2.** Use a web browser to go to the Python website http://python.org . This page\n",
    "contains information about Python and links to Python-related pages, and it gives you the ability to\n",
    "search the Python documentation.\n",
    "For example, if you enter print in the search window, the first link that appears is the documentation of the print statement. At this point, not all of it will make sense to you, but it is good to know\n",
    "where it is."
   ]
  },
  {
   "cell_type": "markdown",
   "metadata": {},
   "source": [
    "**Exercise 1.3.** Start the Python interpreter and type help() to start the online help utility. Or you\n",
    "can type help('print') to get information about the print statement.\n",
    "If this example doesn’t work, you may need to install additional Python documentation or set an\n",
    "environment variable; the details depend on your operating system and version of Python."
   ]
  },
  {
   "cell_type": "code",
   "execution_count": 1,
   "metadata": {},
   "outputs": [
    {
     "name": "stdout",
     "output_type": "stream",
     "text": [
      "Help on built-in function print in module builtins:\n",
      "\n",
      "print(...)\n",
      "    print(value, ..., sep=' ', end='\\n', file=sys.stdout, flush=False)\n",
      "    \n",
      "    Prints the values to a stream, or to sys.stdout by default.\n",
      "    Optional keyword arguments:\n",
      "    file:  a file-like object (stream); defaults to the current sys.stdout.\n",
      "    sep:   string inserted between values, default a space.\n",
      "    end:   string appended after the last value, default a newline.\n",
      "    flush: whether to forcibly flush the stream.\n",
      "\n"
     ]
    }
   ],
   "source": [
    "help('print')"
   ]
  },
  {
   "cell_type": "code",
   "execution_count": 3,
   "metadata": {},
   "outputs": [
    {
     "name": "stdout",
     "output_type": "stream",
     "text": [
      "Help on method_descriptor in str:\n",
      "\n",
      "str.isalnum = isalnum(self, /)\n",
      "    Return True if the string is an alpha-numeric string, False otherwise.\n",
      "    \n",
      "    A string is alpha-numeric if all characters in the string are alpha-numeric and\n",
      "    there is at least one character in the string.\n",
      "\n"
     ]
    }
   ],
   "source": [
    "help('str.isalnum')"
   ]
  },
  {
   "cell_type": "markdown",
   "metadata": {},
   "source": [
    "**Exercise 1.4.** Start the Python interpreter and use it as a calculator. Python’s syntax for math\n",
    "operations is almost the same as standard mathematical notation. For example, the symbols +, - and\n",
    "/ denote addition, subtraction and division, as you would expect. The symbol for multiplication is\n",
    "*.\n",
    "If you run a 10 kilometer race in 43 minutes 30 seconds, what is your average time per mile? What\n",
    "is your average speed in miles per hour? (Hint: there are 1.61 kilometers in a mile)."
   ]
  },
  {
   "cell_type": "code",
   "execution_count": 6,
   "metadata": {},
   "outputs": [],
   "source": [
    "ten_km_time = 43.5  # We run 10km in 43.5 minutes"
   ]
  },
  {
   "cell_type": "code",
   "execution_count": 7,
   "metadata": {},
   "outputs": [
    {
     "data": {
      "text/plain": [
       "6.211180124223602"
      ]
     },
     "execution_count": 7,
     "metadata": {},
     "output_type": "execute_result"
    }
   ],
   "source": [
    "# To find average time per mile, first divide 10 km into mile\n",
    "ten_km_to_mile = 10 / 1.61\n",
    "ten_km_to_mile"
   ]
  },
  {
   "cell_type": "code",
   "execution_count": 8,
   "metadata": {},
   "outputs": [
    {
     "data": {
      "text/plain": [
       "7.003500000000001"
      ]
     },
     "execution_count": 8,
     "metadata": {},
     "output_type": "execute_result"
    }
   ],
   "source": [
    "# Therefore we run 6.2 miles in 43.5 minutes, \n",
    "# now to find how much we run in a mile we simply divide\n",
    "one_mile_time = ten_km_time / ten_km_to_mile\n",
    "one_mile_time"
   ]
  },
  {
   "cell_type": "markdown",
   "metadata": {},
   "source": [
    "Therefore the average time we run a mile is 7 minutes"
   ]
  },
  {
   "cell_type": "code",
   "execution_count": 12,
   "metadata": {},
   "outputs": [
    {
     "data": {
      "text/plain": [
       "8.567144998929106"
      ]
     },
     "execution_count": 12,
     "metadata": {},
     "output_type": "execute_result"
    }
   ],
   "source": [
    "# To find average speed in miles per hours...\n",
    "# speed is distance over time... \n",
    "# Therefore let's fisrt find howmany miles (distance) we run in an hour\n",
    "\n",
    "time = 60  # Time is 60 minutes for an hour\n",
    "distance_in_miles_per_hour = time / one_mile_time\n",
    "distance_in_miles_per_hour"
   ]
  },
  {
   "cell_type": "code",
   "execution_count": 13,
   "metadata": {},
   "outputs": [
    {
     "data": {
      "text/plain": [
       "0.14278574998215177"
      ]
     },
     "execution_count": 13,
     "metadata": {},
     "output_type": "execute_result"
    }
   ],
   "source": [
    "ave_speed_in_miles_per_hour = distance_in_miles_per_hour / 60\n",
    "ave_speed_in_miles_per_hour"
   ]
  },
  {
   "cell_type": "markdown",
   "metadata": {},
   "source": [
    "Therefore the average speed we run in miles per hour is 0.14 miles per hour"
   ]
  },
  {
   "cell_type": "code",
   "execution_count": null,
   "metadata": {},
   "outputs": [],
   "source": []
  }
 ],
 "metadata": {
  "colab": {
   "authorship_tag": "ABX9TyM2UUqwEGnfJVAij0L8X64j",
   "name": "Untitled0.ipynb",
   "provenance": []
  },
  "kernelspec": {
   "display_name": "Python 3",
   "language": "python",
   "name": "python3"
  },
  "language_info": {
   "codemirror_mode": {
    "name": "ipython",
    "version": 3
   },
   "file_extension": ".py",
   "mimetype": "text/x-python",
   "name": "python",
   "nbconvert_exporter": "python",
   "pygments_lexer": "ipython3",
   "version": "3.7.5"
  }
 },
 "nbformat": 4,
 "nbformat_minor": 1
}
